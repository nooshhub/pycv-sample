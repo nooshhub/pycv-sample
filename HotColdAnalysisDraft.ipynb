{
 "cells": [
  {
   "cell_type": "markdown",
   "id": "67d40d08",
   "metadata": {},
   "source": [
    "<img src=\"HotColdAnalysisDraft.jpg\" alt=\"HotColdAnalysisDraft\" style=\"zoom: 25%;\" />"
   ]
  },
  {
   "cell_type": "code",
   "execution_count": 7,
   "id": "0cd7cf7c",
   "metadata": {},
   "outputs": [],
   "source": [
    "# original contour size 6\n",
    "# we can the original contour by using canny and findContours(external)\n",
    "OCNT = ['CNT0', 'CNT1', 'CNT2', 'CNT3','CNT4', 'CNT5']\n",
    "\n",
    "# RR size 9\n",
    "# we can calculate RR by radius, ex raidus = 300, img(900,900)\n",
    "# drwa 9 rectangle(square), as a 3*3 square\n",
    "RR = ['RR0', 'RR1', 'RR2', 'RR3', 'RR4', 'RR5', 'RR6', 'RR7', 'RR8', 'RR9']\n",
    "\n",
    "# group Chunked contour by RR\n",
    "# using RR square a sliding window, so using the RR window to get chunked contours\n",
    "# by canny and findContours(external)\n",
    "RRCC = [['RR0-CC0','RR0-CC1','RR0-CC2'],\\\n",
    "      ['RR1-CC0','RR0-CC1','RR0-CC2'],\\\n",
    "      ['RR2-CC0'],\\\n",
    "      ['RR3-CC0','RR0-CC1'],\\\n",
    "      ['RR4-CC0','RR0-CC1'],\\\n",
    "      ['RR5-CC0'],\\\n",
    "      ['RR6-CC0'],\\\n",
    "      ['RR7-CC0'],\\\n",
    "      ['RR8-CC0'],\\\n",
    "       ]\n",
    "\n",
    "# group Chunked contour by original contour\n",
    "# orginal contour should include chunked contour\n",
    "# if a chunedContour could intersect with a original contour, \n",
    "# then the chunkedContour belongs to the original contour\n",
    "CNTCC = [['CNT0-RR0-CC0-Area100'],\\\n",
    "       ['CNT1-RR1-CC0-Area100'],\\\n",
    "       ['CNT2-RR1-CC1-Area80', 'CNT2-RR2-CC0-Area20'],\\\n",
    "       ['CNT3-RR0-CC2-Area10', 'CNT3-RR3-CC0-Area80', 'CNT3-RR6-CC0-Area10'],\\\n",
    "       ['CNT4-RR0-CC1-Area10', 'CNT4-RR1-CC2-Area20', 'CNT4-RR3-CC1-Area20', 'CNT4-RR4-CC0-Area50'],\\\n",
    "       ['CNT5-RR4-CC1-Area60', 'CNT5-RR5-CC0-Area20', 'CNT5-RR7-CC0-Area15', 'CNT5-RR8-CC0-Area5'],\\\n",
    "      ]\n",
    "\n",
    "# HotColdRegion is the result based on above data\n",
    "# group Chunked contour by HotColdRegion\n",
    "# The biggest Chunked contour in the Original Contour is the HoldCodeRegion's root\n",
    "# the other Chunked contours will be the root's leaf  or leaves\n",
    "HCCC = [['HC0-RR0-CC0-Area100'],\\\n",
    "       ['HC1-RR1-CC0-Area100'],\\\n",
    "       ['HC2-RR1-CC1-Area80', 'HC2-RR2-CC0-Area20'],\\\n",
    "       ['HC3-RR0-CC2-Area10', 'HC3-RR3-CC0-Area80', 'HC3-RR6-CC0-Area10'],\\\n",
    "       ['HC4-RR0-CC1-Area10', 'HC4-RR1-CC2-Area20', 'HC4-RR3-CC1-Area20', 'HC4-RR4-CC0-Area50',\\\n",
    "       'HC4-RR4-CC1-Area60', 'HC4-RR5-CC0-Area20', 'HC4-RR7-CC0-Area15', 'HC4-RR8-CC0-Area5'],\\\n",
    "      ]\n",
    "\n",
    "# group original contour by HotColdRegion\n",
    "HCCC = [['HC0-CNT0'],\\\n",
    "       ['HC1-CNT1'],\\\n",
    "       ['HC2-CNT2'],\\\n",
    "       ['HC3-CNT3'],\\\n",
    "       ['HC4-CNT4', 'HC4-CNT5'],\\\n",
    "      ]"
   ]
  }
 ],
 "metadata": {
  "kernelspec": {
   "display_name": "Python 3",
   "language": "python",
   "name": "python3"
  },
  "language_info": {
   "codemirror_mode": {
    "name": "ipython",
    "version": 3
   },
   "file_extension": ".py",
   "mimetype": "text/x-python",
   "name": "python",
   "nbconvert_exporter": "python",
   "pygments_lexer": "ipython3",
   "version": "3.8.8"
  }
 },
 "nbformat": 4,
 "nbformat_minor": 5
}
