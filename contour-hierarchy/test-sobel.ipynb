{
 "cells": [
  {
   "cell_type": "code",
   "execution_count": 2,
   "id": "0b0f8774",
   "metadata": {},
   "outputs": [],
   "source": [
    "\"\"\"\n",
    "@file sobel_demo.py\n",
    "@brief Sample code using Sobel and/or Scharr OpenCV functions to make a simple Edge Detector\n",
    "\"\"\"\n",
    "import sys\n",
    "import cv2 as cv\n",
    "    \n",
    "window_name = ('Sobel Demo - Simple Edge Detector')\n",
    "scale = 1\n",
    "delta = 0\n",
    "ddepth = cv.CV_16S\n",
    "\n",
    "# Load the image\n",
    "src = cv.imread('data_hierarchy3.png', cv.IMREAD_COLOR)\n",
    "\n",
    "# 缩小图像,方便看效果\n",
    "height, width = src.shape[:2]\n",
    "size = (int(width * 0.3), int(height * 0.3))  # bgr\n",
    "src = cv.resize(src, size, interpolation=cv.INTER_AREA)\n",
    "\n",
    "src = cv.GaussianBlur(src, (3, 3), 0)\n",
    "gray = cv.cvtColor(src, cv.COLOR_BGR2GRAY)\n",
    "\n",
    "grad_x = cv.Sobel(gray, ddepth, 1, 0, ksize=3, scale=scale, delta=delta, borderType=cv.BORDER_DEFAULT)\n",
    "# Gradient-Y\n",
    "# grad_y = cv.Scharr(gray,ddepth,0,1)\n",
    "grad_y = cv.Sobel(gray, ddepth, 0, 1, ksize=3, scale=scale, delta=delta, borderType=cv.BORDER_DEFAULT)\n",
    "\n",
    "abs_grad_x = cv.convertScaleAbs(grad_x)\n",
    "abs_grad_y = cv.convertScaleAbs(grad_y)\n",
    "\n",
    "grad = cv.addWeighted(abs_grad_x, 0.5, abs_grad_y, 0.5, 0)\n",
    "\n",
    "cv.imshow(window_name, grad)\n",
    "cv.waitKey(0)\n",
    "cv.destroyAllWindows()"
   ]
  },
  {
   "cell_type": "code",
   "execution_count": 3,
   "id": "029eee62",
   "metadata": {},
   "outputs": [
    {
     "data": {
      "image/png": "[encoded data removed]",
      "text/plain": [
       "<Figure size 432x288 with 4 Axes>"
      ]
     },
     "metadata": {},
     "output_type": "display_data"
    }
   ],
   "source": [
    "import cv2\n",
    "import numpy as np\n",
    "from matplotlib import pyplot as plt\n",
    "\n",
    "# loading image\n",
    "img0 = cv2.imread('data_hierarchy3.png',)\n",
    "\n",
    "# converting to gray scale\n",
    "gray = cv2.cvtColor(img0, cv2.COLOR_BGR2GRAY)\n",
    "\n",
    "# remove noise\n",
    "img = cv2.GaussianBlur(gray,(3,3),0)\n",
    "\n",
    "# convolute with proper kernels\n",
    "laplacian = cv2.Laplacian(img,cv2.CV_64F)\n",
    "sobelx = cv2.Sobel(img,cv2.CV_64F,1,0,ksize=5)  # x\n",
    "sobely = cv2.Sobel(img,cv2.CV_64F,0,1,ksize=5)  # y\n",
    "\n",
    "plt.subplot(2,2,1),plt.imshow(img,cmap = 'gray')\n",
    "plt.title('Original'), plt.xticks([]), plt.yticks([])\n",
    "plt.subplot(2,2,2),plt.imshow(laplacian,cmap = 'gray')\n",
    "plt.title('Laplacian'), plt.xticks([]), plt.yticks([])\n",
    "plt.subplot(2,2,3),plt.imshow(sobelx,cmap = 'gray')\n",
    "plt.title('Sobel X'), plt.xticks([]), plt.yticks([])\n",
    "plt.subplot(2,2,4),plt.imshow(sobely,cmap = 'gray')\n",
    "plt.title('Sobel Y'), plt.xticks([]), plt.yticks([])\n",
    "\n",
    "plt.show()"
   ]
  },
  {
   "cell_type": "code",
   "execution_count": 8,
   "id": "30c033f9",
   "metadata": {},
   "outputs": [
    {
     "data": {
      "text/plain": [
       "[{'xAxis': 1, 'yAxis': 2}, {'xAxis': 3, 'yAxis': 4}, {'xAxis': 5, 'yAxis': 6}]"
      ]
     },
     "execution_count": 8,
     "metadata": {},
     "output_type": "execute_result"
    }
   ],
   "source": [
    "import numpy as np\n",
    "def convert_contour_to_pts(cnt):\n",
    "    \"\"\"将contour转换成point\"\"\"\n",
    "    pts = []\n",
    "    for pt in cnt:\n",
    "        pt_dict = {\n",
    "            \"xAxis\": pt[0][0],\n",
    "            \"yAxis\": pt[0][1]\n",
    "        }\n",
    "        pts.append(pt_dict)\n",
    "\n",
    "    return pts\n",
    "\n",
    "arr = np.array([[[1,2]],[[3,4]],[[5,6]]])\n",
    "arr\n",
    "pts = convert_contour_to_pts(arr) \n",
    "pts"
   ]
  },
  {
   "cell_type": "code",
   "execution_count": null,
   "id": "e64fbd47",
   "metadata": {},
   "outputs": [],
   "source": []
  }
 ],
 "metadata": {
  "kernelspec": {
   "display_name": "Python 3",
   "language": "python",
   "name": "python3"
  },
  "language_info": {
   "codemirror_mode": {
    "name": "ipython",
    "version": 3
   },
   "file_extension": ".py",
   "mimetype": "text/x-python",
   "name": "python",
   "nbconvert_exporter": "python",
   "pygments_lexer": "ipython3",
   "version": "3.8.8"
  }
 },
 "nbformat": 4,
 "nbformat_minor": 5
}
