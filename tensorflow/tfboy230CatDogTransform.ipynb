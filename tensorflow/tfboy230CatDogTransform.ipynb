{
 "cells": [
  {
   "cell_type": "code",
   "execution_count": 1,
   "id": "e568d235",
   "metadata": {},
   "outputs": [],
   "source": [
    "# 迁移学习\n",
    "# 用人家训练好模型的权重参数当作咱们的初始化\n",
    "# 一般全连接层需要自己训练，可以选择是否训练别热训练好的特征提取层\n",
    "\n",
    "import os\n",
    "import warnings\n",
    "warnings.filterwarnings(\"ignore\")\n",
    "import matplotlib.pyplot as plt\n",
    "import tensorflow as tf\n",
    "from tensorflow.keras.optimizers import Adam\n",
    "from tensorflow.keras.preprocessing.image import ImageDataGenerator\n",
    "from tensorflow.keras import layers\n",
    "from tensorflow.keras import Model"
   ]
  },
  {
   "cell_type": "code",
   "execution_count": 2,
   "id": "5e26aaca",
   "metadata": {},
   "outputs": [
    {
     "name": "stdout",
     "output_type": "stream",
     "text": [
      "./tmp/catdog\\train\n"
     ]
    }
   ],
   "source": [
    "base_dir = './tmp/catdog'\n",
    "train_dir = os.path.join(base_dir, 'train')\n",
    "validation_dir = os.path.join(base_dir, 'validation')\n",
    "print(train_dir)\n",
    "# 训练集\n",
    "train_cats_dir = os.path.join(train_dir, 'cat')\n",
    "train_dogs_dir = os.path.join(train_dir, 'dog')\n",
    "\n",
    "# 验证集\n",
    "validation_cats_dir = os.path.join(validation_dir, 'cat')\n",
    "validation_dogs_dir = os.path.join(validation_dir, 'dog')"
   ]
  },
  {
   "cell_type": "code",
   "execution_count": 4,
   "id": "0264e0fc",
   "metadata": {},
   "outputs": [],
   "source": [
    "# tensorflow.keras.applications\n",
    "# 里面有很多现成训练好的模型可以直接利用\n",
    "### 导入模型\n",
    "from tensorflow.keras.applications.resnet import ResNet101\n",
    "from tensorflow.keras.applications.inception_v3 import InceptionV3"
   ]
  },
  {
   "cell_type": "code",
   "execution_count": 5,
   "id": "1a912c59",
   "metadata": {},
   "outputs": [
    {
     "name": "stdout",
     "output_type": "stream",
     "text": [
      "Downloading data from https://storage.googleapis.com/tensorflow/keras-applications/inception_v3/inception_v3_weights_tf_dim_ordering_tf_kernels_notop.h5\n",
      "87916544/87910968 [==============================] - 8s 0us/step\n"
     ]
    }
   ],
   "source": [
    "pre_trained_model = InceptionV3(input_shape=(75,75,3), # 输入大小\n",
    "    include_top = False, # 不要最后的全连接层\n",
    "    weights = 'imagenet'\n",
    ")"
   ]
  },
  {
   "cell_type": "code",
   "execution_count": 6,
   "id": "7cf52a87",
   "metadata": {},
   "outputs": [],
   "source": [
    "# 可以选择训练哪些层\n",
    "for layer in pre_trained_model.layers:\n",
    "    layer.trainable = False"
   ]
  },
  {
   "cell_type": "code",
   "execution_count": null,
   "id": "e5822266",
   "metadata": {},
   "outputs": [],
   "source": [
    "# callback的作用\n",
    "# 相当于一个监视器，在训练过程中可以设置一些自定义项，比如提前停止，改变学习率等\n",
    "# callbacks = [如果连续两个epoch还没降低就停止]"
   ]
  }
 ],
 "metadata": {
  "kernelspec": {
   "display_name": "Python 3",
   "language": "python",
   "name": "python3"
  },
  "language_info": {
   "codemirror_mode": {
    "name": "ipython",
    "version": 3
   },
   "file_extension": ".py",
   "mimetype": "text/x-python",
   "name": "python",
   "nbconvert_exporter": "python",
   "pygments_lexer": "ipython3",
   "version": "3.8.8"
  }
 },
 "nbformat": 4,
 "nbformat_minor": 5
}
