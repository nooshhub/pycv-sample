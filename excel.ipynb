{
 "cells": [
  {
   "cell_type": "code",
   "execution_count": 8,
   "id": "b9d2a2cf",
   "metadata": {},
   "outputs": [
    {
     "name": "stdout",
     "output_type": "stream",
     "text": [
      "[0, 255, 255] = 居住\n",
      "[0, 0, 255] = 商场\n",
      "[255, 0, 255] = 办公\n",
      "[0, 127, 255] = 酒店\n",
      "[127, 127, 255] = 医疗\n",
      "[191, 127, 255] = 教育\n",
      "[38, 57, 76] = 传统产业工业\n",
      "[76, 114, 153] = 新兴产业工业\n",
      "[0, 255, 0] = 绿地\n",
      "[255, 255, 127] = 湖泊\n",
      "[128, 128, 128] = 交通枢纽\n",
      "[192, 192, 192] = 其他\n",
      "[38, 153, 0] = 绿地\n",
      "[204, 102, 153] = 物流仓储\n",
      "[0, 38, 76] = 矿场\n",
      "[153, 114, 0] = 电厂\n",
      "[22, 114, 20] = 港口\n",
      "[[0, 255, 255], [0, 0, 255], [255, 0, 255], [0, 127, 255], [127, 127, 255], [191, 127, 255], [38, 57, 76], [76, 114, 153], [0, 255, 0], [255, 255, 127], [128, 128, 128], [192, 192, 192], [38, 153, 0], [204, 102, 153], [0, 38, 76], [153, 114, 0], [22, 114, 20]]\n"
     ]
    }
   ],
   "source": [
    "# By WDL 2020-3-31\n",
    "from openpyxl import Workbook, load_workbook\n",
    "wb= load_workbook(\"D:\\opencv\\mtcv\\李春宝-色块分类表V1.3 2021-06-21.xlsx\")\n",
    "ws=wb[\"色块分类\"] #也可以使用wb.get_sheet_by_name(\"Sheet1\") 获取工作表\n",
    "# 读取数据，把excel中的一个table按行读取出来，存入一个二维的list\n",
    "\n",
    "total_list=[]\n",
    "for row in ws.rows:\n",
    "    row_list=[]\n",
    "    for cell in row:\n",
    "        row_list.append(cell.value)\n",
    "    total_list.append(row_list)\n",
    "    \n",
    "# 利用字典进行数据统计\n",
    "bgr_list = []\n",
    "for term in total_list:\n",
    "    if term[1] == None or term[1] == \"颜色(RGB)\": # 颜色(RGB)\n",
    "        continue\n",
    "    else:\n",
    "        rgb = term[1].split(\",\")\n",
    "#         print(rgb)\n",
    "        bgr = [int(rgb[2]),int(rgb[1]),int(rgb[0])]\n",
    "        bgr_list.append(bgr)\n",
    "        print(bgr, '=', term[2])\n",
    "        \n",
    "        \n",
    "\n",
    "print(bgr_list)\n",
    "        \n",
    "        \n",
    "\n",
    "# #保存写操作\n",
    "# newwb = Workbook()\n",
    "# newsheet=newwb.active\n",
    "# newsheet.title=\"Sheet1\"\n",
    "# #表头\n",
    "# newsheet[\"A1\"]=total_list[0][0]\n",
    "# newsheet.merge_cells(\"A1:C1\") #合并单元格\n",
    "# newsheet[\"A2\"]=\"员工姓名\"\n",
    "# newsheet[\"B2\"]=\"推荐数量\"\n",
    "# newsheet[\"C2\"]=\"累计认购金额\"\n",
    "\n",
    "# #单元格\n",
    "# i=3\n",
    "# for name in namedict:\n",
    "#     newsheet.cell(row=i,column=1).value=name\n",
    "#     newsheet.cell(row=i, column=2).value=namedict[name]\n",
    "#     newsheet.cell(row=i, column=3).value =sum(valuedict[name])\n",
    "#     i=i+1\n",
    "# newwb.save(\"XXX公司推荐成交明细_final.xlsx\")\n"
   ]
  }
 ],
 "metadata": {
  "kernelspec": {
   "display_name": "Python 3",
   "language": "python",
   "name": "python3"
  },
  "language_info": {
   "codemirror_mode": {
    "name": "ipython",
    "version": 3
   },
   "file_extension": ".py",
   "mimetype": "text/x-python",
   "name": "python",
   "nbconvert_exporter": "python",
   "pygments_lexer": "ipython3",
   "version": "3.8.8"
  }
 },
 "nbformat": 4,
 "nbformat_minor": 5
}
