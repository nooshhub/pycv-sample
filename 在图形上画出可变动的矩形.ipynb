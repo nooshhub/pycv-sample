{
 "cells": [
  {
   "cell_type": "code",
   "execution_count": 2,
   "id": "9fc2661f",
   "metadata": {},
   "outputs": [],
   "source": [
    "import cv2 as cv\n",
    "import numpy as np\n",
    "\n",
    "\n",
    "def renderImage(x):\n",
    "    copyOfImg = img.copy()\n",
    "\n",
    "    # get curren positions trackbars\n",
    "    RR_radius = cv.getTrackbarPos('RR_radius', 'Partition')\n",
    "    RR_thickness = cv.getTrackbarPos('RR_thickness', 'Partition')\n",
    "    cv.rectangle(copyOfImg, (0,0), (RR_radius, RR_radius), (255, 0, 0), RR_thickness, cv.LINE_AA)\n",
    "    cv.imshow('Partition', copyOfImg)\n",
    "\n",
    "\n",
    "def nothing(x):\n",
    "    pass\n",
    "    \n",
    "# load image, create a widnow\n",
    "img = cv.imread('partition2.png')\n",
    "cv.namedWindow('Partition')\n",
    "\n",
    "# cteate trackbars RR radius changes\n",
    "# RR radius for draw rectangle\n",
    "cv.createTrackbar('RR_radius', 'Partition', 250, 500, renderImage)\n",
    "# RR radius line's tickness\n",
    "cv.createTrackbar('RR_thickness', 'Partition', 1, 3, renderImage)\n",
    "\n",
    "\n",
    "# init show image\n",
    "renderImage(-1)\n",
    "\n",
    "\n",
    "# loop until use press ESC\n",
    "while(1):\n",
    "    k = cv.waitKey(100) & 0xFF\n",
    "    if k == 27:\n",
    "        break\n",
    "    \n",
    "cv.destroyAllWindows()        \n",
    "\n",
    "\n"
   ]
  }
 ],
 "metadata": {
  "kernelspec": {
   "display_name": "Python 3",
   "language": "python",
   "name": "python3"
  },
  "language_info": {
   "codemirror_mode": {
    "name": "ipython",
    "version": 3
   },
   "file_extension": ".py",
   "mimetype": "text/x-python",
   "name": "python",
   "nbconvert_exporter": "python",
   "pygments_lexer": "ipython3",
   "version": "3.8.8"
  }
 },
 "nbformat": 4,
 "nbformat_minor": 5
}
