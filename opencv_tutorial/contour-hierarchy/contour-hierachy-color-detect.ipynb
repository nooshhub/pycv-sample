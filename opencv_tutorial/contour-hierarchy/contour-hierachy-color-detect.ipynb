{
 "cells": [
  {
   "cell_type": "code",
   "execution_count": 30,
   "id": "da8f36c8",
   "metadata": {},
   "outputs": [
    {
     "name": "stdout",
     "output_type": "stream",
     "text": [
      "(720, 945)\n",
      "1\n",
      "678736.0\n",
      "(720, 945)\n",
      "1\n",
      "678736.0\n"
     ]
    }
   ],
   "source": [
    "import numpy as np\n",
    "import cv2 as cv\n",
    "\n",
    "img = cv.imread('data_hierarchy3.png')\n",
    "\n",
    "# 缩小图像,方便看效果\n",
    "height, width = img.shape[:2]\n",
    "size = (int(width * 0.3), int(height * 0.3))  # bgr\n",
    "img = cv.resize(img, size, interpolation=cv.INTER_AREA)\n",
    "\n",
    "# BGR转化为HSV\n",
    "HSV = cv.cvtColor(img, cv.COLOR_BGR2HSV)\n",
    "cv.imshow(\"imageHSV\", HSV)\n",
    "cv.imshow('image', img)\n",
    "\n",
    "# 红色特殊[0,10], [156,180]\n",
    "color = [\n",
    "    # ([80, 0,0], [100, 255, 255])  # [b,g,r]\n",
    "    ([0, 43, 46], [10, 255, 255]),\n",
    "    ([156, 43, 46], [180, 255, 255])\n",
    "\n",
    "]\n",
    "\n",
    "# 如果color中定义了几种颜色区间，都可以分割出来\n",
    "for (lower, upper) in color:\n",
    "    lower = np.array(lower, dtype=\"uint8\")  # 颜色下限\n",
    "    upper = np.array(upper, dtype=\"uint8\")  # 颜色上限\n",
    "    # 根据阈值找到对应颜色\n",
    "    mask = cv.inRange(HSV, lower, upper)  # 查找处于范围区间的\n",
    "    mask = 255 - mask  # 留下铝材区域\n",
    "    output = cv.bitwise_and(img, img, mask=mask)  # 获取铝材区域\n",
    "\n",
    "    #     output = cv.cvtColor(output,cv.COLOR_HSV2BGR)\n",
    "\n",
    "    # 展示图片\n",
    "    cv.imshow(\"images\", np.hstack([img, output]))\n",
    "    contours, hierarchy = cv.findContours(mask, cv.RETR_EXTERNAL, cv.CHAIN_APPROX_SIMPLE)\n",
    "    print(mask.shape)\n",
    "    # print(mask[0])\n",
    "    print(len(contours))\n",
    "    cv.drawContours(img, contours, -1, (0, 0, 255), 1)\n",
    "    for i in contours:\n",
    "        print(cv.contourArea(i))  # 计算缺陷区域面积\n",
    "        x, y, w, h = cv.boundingRect(i)  # 画矩形框\n",
    "        cv.rectangle(img, (x, y), (x + w, y + h), (0, 255, 0), 1)\n",
    "    # cv.imwrite(show_result_path, match_img_color)\n",
    "    cv.imshow(\"detect\", img)\n",
    "    cv.imshow(\"chanle\", img)\n",
    "    cv.waitKey(0)\n",
    "\n",
    "cv.waitKey(0)\n",
    "cv.destroyAllWindows()\n"
   ]
  }
 ],
 "metadata": {
  "kernelspec": {
   "display_name": "Python 3",
   "language": "python",
   "name": "python3"
  },
  "language_info": {
   "codemirror_mode": {
    "name": "ipython",
    "version": 3
   },
   "file_extension": ".py",
   "mimetype": "text/x-python",
   "name": "python",
   "nbconvert_exporter": "python",
   "pygments_lexer": "ipython3",
   "version": "3.8.8"
  }
 },
 "nbformat": 4,
 "nbformat_minor": 5
}
