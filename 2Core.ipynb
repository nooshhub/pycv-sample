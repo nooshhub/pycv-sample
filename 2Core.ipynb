{
 "cells": [
  {
   "cell_type": "code",
   "execution_count": 40,
   "id": "0d6a931c",
   "metadata": {},
   "outputs": [],
   "source": [
    "import numpy as np\n",
    "import cv2 as cv\n",
    "\n",
    "img = cv.imread('partition2.png')\n",
    "copy = img.copy()\n",
    "roi = copy[280:340, 330:390]\n",
    "\n",
    "cv.rectangle(img, (340,280), (390,330), (255,0,0))\n",
    "cv.rectangle(img, (170,110), (343,283), (0, 255,0))\n",
    "# cv.imshow('src', img)\n",
    "\n",
    "img[283:343, 110:170] = roi\n",
    "cv.imshow('src', img)\n",
    "cv.waitKey(0)\n",
    "cv.destroyAllWindows()   "
   ]
  }
 ],
 "metadata": {
  "kernelspec": {
   "display_name": "Python 3",
   "language": "python",
   "name": "python3"
  },
  "language_info": {
   "codemirror_mode": {
    "name": "ipython",
    "version": 3
   },
   "file_extension": ".py",
   "mimetype": "text/x-python",
   "name": "python",
   "nbconvert_exporter": "python",
   "pygments_lexer": "ipython3",
   "version": "3.8.8"
  }
 },
 "nbformat": 4,
 "nbformat_minor": 5
}
