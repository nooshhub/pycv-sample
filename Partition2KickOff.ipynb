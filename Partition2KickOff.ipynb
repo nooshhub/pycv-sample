{
 "cells": [
  {
   "cell_type": "code",
   "execution_count": null,
   "id": "126998b7",
   "metadata": {},
   "outputs": [],
   "source": [
    "## intersectConvexConvex  find the intersection"
   ]
  },
  {
   "cell_type": "code",
   "execution_count": 23,
   "id": "234e8ac5",
   "metadata": {},
   "outputs": [],
   "source": [
    "import numpy as np\n",
    "import cv2 as cv\n",
    "from matplotlib import pyplot as plt\n",
    "\n",
    "\n",
    "img = cv.imread('partition2.png')\n",
    "# copy and move the copy 20px to right and bottom\n",
    "# merge img and copy by bitwise\n",
    "copyForMoveToRight = img.copy()\n",
    "copyForMoveToBottom = img.copy()\n",
    "# size to move\n",
    "shift = 40\n",
    "\n",
    "for i in range(copyForMoveToRight.shape[1]  -1, copyForMoveToRight.shape[1] - shift, -1):\n",
    "    copyForMoveToRight = np.roll(copyForMoveToRight, -1, axis=1)\n",
    "    copyForMoveToRight[:, -1] = 0\n",
    "    \n",
    "cv.imshow('copyForMoveToRight',copyForMoveToRight)\n",
    "\n",
    "# for i in range(image.shape[0] -1, image.shape[0] - shift, -1):\n",
    "#     image = np.roll(image, -1, axis=0)\n",
    "#     image[-1, :] = 0\n",
    "\n",
    "    \n",
    "gray = cv.cvtColor(img, cv.COLOR_BGR2GRAY)\n",
    "edges = cv.Canny(gray,100,200)\n",
    "contours, hierarchy = cv.findContours(edges, cv.RETR_TREE, cv.CHAIN_APPROX_SIMPLE)\n",
    "dst = img.copy()\n",
    "# To draw all the contours in an image:\n",
    "cv.drawContours(dst, contours, -1, (0,255,0), 3)\n",
    "\n",
    "\n",
    "# Extreme Points\n",
    "# Extreme Points means topmost, bottommost, rightmost and leftmost points of the object.\n",
    "# this one is useful to find the begine coordinate, what we need is to mix the image together\n",
    "# leftmost = tuple(cnt[cnt[:,:,0].argmin()][0])\n",
    "# rightmost = tuple(cnt[cnt[:,:,0].argmax()][0])\n",
    "# topmost = tuple(cnt[cnt[:,:,1].argmin()][0])\n",
    "# bottommost = tuple(cnt[cnt[:,:,1].argmax()][0])\n",
    "\n",
    "cv.imshow('img',img)\n",
    "cv.imshow('dst',dst)\n",
    "cv.waitKey(0)\n",
    "cv.destroyAllWindows()"
   ]
  }
 ],
 "metadata": {
  "kernelspec": {
   "display_name": "Python 3",
   "language": "python",
   "name": "python3"
  },
  "language_info": {
   "codemirror_mode": {
    "name": "ipython",
    "version": 3
   },
   "file_extension": ".py",
   "mimetype": "text/x-python",
   "name": "python",
   "nbconvert_exporter": "python",
   "pygments_lexer": "ipython3",
   "version": "3.8.8"
  }
 },
 "nbformat": 4,
 "nbformat_minor": 5
}
